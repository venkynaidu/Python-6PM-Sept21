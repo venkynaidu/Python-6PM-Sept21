{
 "cells": [
  {
   "cell_type": "markdown",
   "id": "736d118f",
   "metadata": {},
   "source": [
    "# if"
   ]
  },
  {
   "cell_type": "code",
   "execution_count": 1,
   "id": "7078b92c",
   "metadata": {},
   "outputs": [
    {
     "name": "stdout",
     "output_type": "stream",
     "text": [
      "+ve number\n"
     ]
    }
   ],
   "source": [
    "#program to check the given number is +ve \n",
    "a=10\n",
    "if a>0:\n",
    "    print(\"+ve number\")"
   ]
  },
  {
   "cell_type": "code",
   "execution_count": 2,
   "id": "cefaf51f",
   "metadata": {},
   "outputs": [],
   "source": [
    "#program to check the given number is +ve \n",
    "a=-10\n",
    "if a>0:\n",
    "    print(\"+ve number\")"
   ]
  },
  {
   "cell_type": "markdown",
   "id": "9e2e8eac",
   "metadata": {},
   "source": [
    "# if else"
   ]
  },
  {
   "cell_type": "code",
   "execution_count": 3,
   "id": "ee8170b3",
   "metadata": {},
   "outputs": [
    {
     "name": "stdout",
     "output_type": "stream",
     "text": [
      "+ve number\n"
     ]
    }
   ],
   "source": [
    "#program to check the given number is +ve or negative\n",
    "a=10\n",
    "if a>0:\n",
    "    print(\"+ve number\")\n",
    "else:\n",
    "    print(\"-ve number\")\n",
    "    "
   ]
  },
  {
   "cell_type": "code",
   "execution_count": 4,
   "id": "8ad9846a",
   "metadata": {},
   "outputs": [
    {
     "name": "stdout",
     "output_type": "stream",
     "text": [
      "-ve number\n"
     ]
    }
   ],
   "source": [
    "#program to check the given number is +ve or negative\n",
    "a=-10\n",
    "if a>0:\n",
    "    print(\"+ve number\")\n",
    "else:\n",
    "    print(\"-ve number\")\n",
    "    "
   ]
  },
  {
   "cell_type": "code",
   "execution_count": 6,
   "id": "7110522e",
   "metadata": {},
   "outputs": [
    {
     "name": "stdout",
     "output_type": "stream",
     "text": [
      "Enter number to check:-20\n",
      "-ve number\n"
     ]
    }
   ],
   "source": [
    "#program to check the given number is +ve or negative\n",
    "a=int(input(\"Enter number to check:\"))\n",
    "if a>0:\n",
    "    print(\"+ve number\")\n",
    "else:\n",
    "    print(\"-ve number\")\n",
    "    "
   ]
  },
  {
   "cell_type": "code",
   "execution_count": null,
   "id": "99975b4a",
   "metadata": {},
   "outputs": [],
   "source": [
    "1. Write a program to check the given number is even or odd.\n",
    "2. Write a program to check the person age is elegibile to cast his vote."
   ]
  },
  {
   "cell_type": "code",
   "execution_count": 1,
   "id": "e8264206",
   "metadata": {},
   "outputs": [
    {
     "name": "stdout",
     "output_type": "stream",
     "text": [
      "Enter number to check8\n",
      "Even number\n"
     ]
    }
   ],
   "source": [
    "#program to check the given number is even or odd\n",
    "n=int(input(\"Enter number to check\"))\n",
    "if n%2==0:\n",
    "    print(\"Even number\")\n",
    "else:\n",
    "    print(\"Odd number\")"
   ]
  },
  {
   "cell_type": "code",
   "execution_count": 2,
   "id": "836b174b",
   "metadata": {},
   "outputs": [
    {
     "name": "stdout",
     "output_type": "stream",
     "text": [
      "Enter age19\n",
      "You are elegible to vote\n"
     ]
    }
   ],
   "source": [
    "#program to check the person age is elegibile to cast his vote.\n",
    "age=int(input(\"Enter age\"))\n",
    "if age>=18:\n",
    "    print(\"You are elegible to vote\")\n",
    "else:\n",
    "    print(\"You are not elegible to vote\")"
   ]
  },
  {
   "cell_type": "code",
   "execution_count": 4,
   "id": "2e2386de",
   "metadata": {},
   "outputs": [
    {
     "name": "stdout",
     "output_type": "stream",
     "text": [
      "Enter a,b values:10 20\n"
     ]
    }
   ],
   "source": [
    "#program to check the biggest number of given two numbers\n",
    "a,b=[int(x) for x in input(\"Enter a,b values:\").split()]"
   ]
  },
  {
   "cell_type": "code",
   "execution_count": 8,
   "id": "e67f50a7",
   "metadata": {},
   "outputs": [
    {
     "name": "stdout",
     "output_type": "stream",
     "text": [
      "Enter a,b values:10,20,30,40,50,60\n"
     ]
    }
   ],
   "source": [
    "a,b,c,d,e,f=[int(x) for x in input(\"Enter a,b values:\").split(',')]"
   ]
  },
  {
   "cell_type": "code",
   "execution_count": 11,
   "id": "20feaead",
   "metadata": {},
   "outputs": [
    {
     "name": "stdout",
     "output_type": "stream",
     "text": [
      "a,b values10 20\n",
      "b is big\n"
     ]
    }
   ],
   "source": [
    "#program to check the biggest number of given two numbers\n",
    "a,b=[int(x) for x in input(\"a,b values\").split()]\n",
    "if a>b:\n",
    "    print(\"a is big\")\n",
    "else:\n",
    "    print(\"b is big\")"
   ]
  },
  {
   "cell_type": "code",
   "execution_count": 12,
   "id": "9837df39",
   "metadata": {},
   "outputs": [
    {
     "name": "stdout",
     "output_type": "stream",
     "text": [
      "Enter a,b,c values10 20 4\n",
      "b is big\n"
     ]
    }
   ],
   "source": [
    "#program to find the biggest number of given three numbers\n",
    "a,b,c=[int(x) for x in input(\"Enter a,b,c values\").split()]\n",
    "if a>b and a>c:\n",
    "    print(\"a is big\")\n",
    "elif b>c:\n",
    "    print(\"b is big\")\n",
    "else:\n",
    "    print(\" c is big\")"
   ]
  },
  {
   "cell_type": "code",
   "execution_count": 13,
   "id": "1705557b",
   "metadata": {},
   "outputs": [
    {
     "name": "stdout",
     "output_type": "stream",
     "text": [
      "49\n"
     ]
    }
   ],
   "source": [
    "a=5\n",
    "b=2\n",
    "x=a*a+b*b+2*a*b\n",
    "print(x)"
   ]
  },
  {
   "cell_type": "code",
   "execution_count": 15,
   "id": "5dbedb3e",
   "metadata": {},
   "outputs": [
    {
     "name": "stdout",
     "output_type": "stream",
     "text": [
      "Enter number convert1\n",
      "ONE\n"
     ]
    }
   ],
   "source": [
    "#program to convert number to words\n",
    "n=int(input(\"Enter number convert\"))\n",
    "if n==0:\n",
    "    print(\"ZERO\")\n",
    "elif n==1:\n",
    "    print(\"ONE\")\n",
    "elif n==2:\n",
    "    print(\"TWO\")\n",
    "elif n==3:\n",
    "    print(\"THREE\")\n",
    "else:\n",
    "    print(\"Please enter numbers between 0 to 3 only\")"
   ]
  },
  {
   "cell_type": "markdown",
   "id": "05fe741a",
   "metadata": {},
   "source": [
    "# Nested if else"
   ]
  },
  {
   "cell_type": "code",
   "execution_count": 18,
   "id": "aec5a9be",
   "metadata": {},
   "outputs": [
    {
     "name": "stdout",
     "output_type": "stream",
     "text": [
      "Enter your mailvenky123@gmail.com\n",
      "Enter ur passwordoweoweoowep\n",
      "wrong password\n"
     ]
    }
   ],
   "source": [
    "#program to check mail id login\n",
    "mail=input(\"Enter your mail\")\n",
    "if mail==\"venky123@gmail.com\":\n",
    "    psw=input(\"Enter ur password\")\n",
    "    if psw==\"venky@123\":\n",
    "        print(\"you are successfully logged in\")\n",
    "    else:\n",
    "        print(\"wrong password\")\n",
    "else:\n",
    "    print(\"wrong mail\")"
   ]
  },
  {
   "cell_type": "code",
   "execution_count": 21,
   "id": "dd9d8046",
   "metadata": {},
   "outputs": [
    {
     "name": "stdout",
     "output_type": "stream",
     "text": [
      "Enter pin number to check1234\n",
      "Pin is correct\n"
     ]
    }
   ],
   "source": [
    "pin=input(\"Enter pin number to check\")\n",
    "if pin==\"1234\":\n",
    "    print(\"Pin is correct\")\n",
    "else:\n",
    "    print(\"Pin wrong\")"
   ]
  },
  {
   "cell_type": "code",
   "execution_count": 13,
   "id": "30e0b3de",
   "metadata": {},
   "outputs": [
    {
     "name": "stdout",
     "output_type": "stream",
     "text": [
      "Enter pin number1234\n",
      "Welcome to Bhadri Bank\n",
      "1. Withdraw     2.Balance\n",
      "3. Pin Change   4. Deposite\n",
      "Enter your option1\n",
      "Enter amount to withdraw2000\n",
      "Your transaction is in process....please collect ur cash\n",
      "Your remaining account balance is: 3000\n"
     ]
    }
   ],
   "source": [
    "#program for ATM Operations\n",
    "upin=int(input(\"Enter pin number\"))\n",
    "balance=5000\n",
    "pin=1234\n",
    "if upin==pin:\n",
    "    print(\"Welcome to Bhadri Bank\")\n",
    "    print(\"1. Withdraw     2.Balance\")\n",
    "    print(\"3. Pin Change   4. Deposite\")\n",
    "    opt=int(input(\"Enter your option\"))\n",
    "    if opt==1:\n",
    "        uamount=int(input(\"Enter amount to withdraw\"))\n",
    "        if uamount<=balance:\n",
    "            if uamount%500==0:\n",
    "                print(\"Your transaction is in process....please collect ur cash\")\n",
    "                balance=balance-uamount\n",
    "                print(\"Your remaining account balance is:\",balance)\n",
    "            else:\n",
    "                print(\"Please enter combinations of 500's only\")\n",
    "        else:\n",
    "            print(\"Isufficient balance in ur account\")\n",
    "    elif opt==2:\n",
    "        print(\"Your account Balance is:\",balance)\n",
    "    elif opt==3:\n",
    "        oldpin=int(input(\"Enter old pin:\"))\n",
    "        if oldpin==pin:\n",
    "            newpin=int(input(\"Enter new pin:\"))\n",
    "            pin=newpin\n",
    "            print(\"your pin changed succesfully....your new pin is:\",pin)\n",
    "        else:\n",
    "            print(\"Wrong pin ..please try again later\")\n",
    "    elif opt==4:\n",
    "        uamount=int(input(\"Enter amount here to add to ur account\"))\n",
    "        balance=balance+uamount\n",
    "        print(\"Your updated account balance is:\",balance)\n",
    "    else:\n",
    "        print(\"Wrong option....\")\n",
    "else:\n",
    "    print(\"Wrong pin...better luck next time with correct pin\")\n"
   ]
  },
  {
   "cell_type": "markdown",
   "id": "0da69a07",
   "metadata": {},
   "source": [
    "# For loop"
   ]
  },
  {
   "cell_type": "code",
   "execution_count": 17,
   "id": "18a52ed9",
   "metadata": {},
   "outputs": [
    {
     "name": "stdout",
     "output_type": "stream",
     "text": [
      "1\n",
      "2\n",
      "3\n",
      "4\n",
      "5\n",
      "6\n",
      "7\n",
      "8\n",
      "9\n",
      "10\n"
     ]
    }
   ],
   "source": [
    "#program to print 1 to 10\n",
    "for i in range(1,11):\n",
    "    print(i)"
   ]
  },
  {
   "cell_type": "code",
   "execution_count": 18,
   "id": "c845bf48",
   "metadata": {},
   "outputs": [
    {
     "name": "stdout",
     "output_type": "stream",
     "text": [
      "1 2 3 4 5 6 7 8 9 10 "
     ]
    }
   ],
   "source": [
    "#program to print 1 to 10\n",
    "for i in range(1,11):\n",
    "    print(i,end=' ')"
   ]
  },
  {
   "cell_type": "code",
   "execution_count": 19,
   "id": "62f6d7ec",
   "metadata": {},
   "outputs": [
    {
     "name": "stdout",
     "output_type": "stream",
     "text": [
      "3\n",
      "5\n",
      "7\n",
      "9\n",
      "11\n",
      "13\n",
      "15\n",
      "17\n",
      "19\n",
      "21\n",
      "23\n"
     ]
    }
   ],
   "source": [
    "#program to print alternative number between 3 to 23\n",
    "for i in range(3,24,2):\n",
    "    print(i)"
   ]
  },
  {
   "cell_type": "code",
   "execution_count": 22,
   "id": "0f669e36",
   "metadata": {},
   "outputs": [
    {
     "name": "stdout",
     "output_type": "stream",
     "text": [
      "3\n",
      "6\n",
      "9\n",
      "12\n",
      "15\n",
      "18\n",
      "21\n"
     ]
    }
   ],
   "source": [
    "#program to print alternative number between 3 to 23\n",
    "for i in range(3,24,3):\n",
    "    print(i)"
   ]
  },
  {
   "cell_type": "code",
   "execution_count": 2,
   "id": "c7778fdf",
   "metadata": {},
   "outputs": [
    {
     "name": "stdout",
     "output_type": "stream",
     "text": [
      "2\n",
      "4\n",
      "6\n",
      "8\n",
      "10\n",
      "12\n",
      "14\n",
      "16\n",
      "18\n",
      "20\n"
     ]
    }
   ],
   "source": [
    "#program to print even numbers between 1 to 20\n",
    "for i in range(1,21):\n",
    "    if i%2==0:\n",
    "        print(i)"
   ]
  },
  {
   "cell_type": "code",
   "execution_count": 3,
   "id": "b344aef0",
   "metadata": {},
   "outputs": [
    {
     "name": "stdout",
     "output_type": "stream",
     "text": [
      "Number of even numbers are: 13\n"
     ]
    }
   ],
   "source": [
    "#program to print number of even numbers between 3 to 28\n",
    "count=0\n",
    "for i in range(3,29):\n",
    "    if i%2==0:\n",
    "        count=count+1\n",
    "print(\"Number of even numbers are:\",count)\n"
   ]
  },
  {
   "cell_type": "code",
   "execution_count": 4,
   "id": "6902a6d4",
   "metadata": {},
   "outputs": [
    {
     "name": "stdout",
     "output_type": "stream",
     "text": [
      "7\n",
      "14\n",
      "21\n",
      "28\n"
     ]
    }
   ],
   "source": [
    "#program to print numbers divisible by 7 between 3 to 28\n",
    "for i in range(3,29):\n",
    "    if i%7==0:\n",
    "        print(i)\n"
   ]
  },
  {
   "cell_type": "markdown",
   "id": "5e48f48e",
   "metadata": {},
   "source": [
    "# Nested for loop:"
   ]
  },
  {
   "cell_type": "code",
   "execution_count": 5,
   "id": "283e98ad",
   "metadata": {},
   "outputs": [
    {
     "name": "stdout",
     "output_type": "stream",
     "text": [
      "* \n",
      "* \n",
      "* \n",
      "\n",
      "* \n",
      "* \n",
      "* \n",
      "\n",
      "* \n",
      "* \n",
      "* \n",
      "\n"
     ]
    }
   ],
   "source": [
    "#program to print 4x4 matrix pattern\n",
    "for i in range(3):\n",
    "    for j in range(3):\n",
    "        print(\"* \")\n",
    "    print()"
   ]
  },
  {
   "cell_type": "code",
   "execution_count": 6,
   "id": "a094e03d",
   "metadata": {},
   "outputs": [
    {
     "name": "stdout",
     "output_type": "stream",
     "text": [
      "* * * \n",
      "* * * \n",
      "* * * \n"
     ]
    }
   ],
   "source": [
    "#program to print 3x3 matrix pattern\n",
    "for i in range(3):\n",
    "    for j in range(3):\n",
    "        print(\"* \",end='')\n",
    "    print()"
   ]
  },
  {
   "cell_type": "code",
   "execution_count": 8,
   "id": "77fbd59a",
   "metadata": {},
   "outputs": [
    {
     "name": "stdout",
     "output_type": "stream",
     "text": [
      "0 0 0 0 \n",
      "1 1 1 1 \n",
      "2 2 2 2 \n",
      "3 3 3 3 \n"
     ]
    }
   ],
   "source": [
    "#program to print 4x4 matrix numbers\n",
    "for i in range(4):\n",
    "    for j in range(4):\n",
    "        print(i,end=' ')\n",
    "    print()"
   ]
  },
  {
   "cell_type": "code",
   "execution_count": 11,
   "id": "345810a5",
   "metadata": {},
   "outputs": [
    {
     "name": "stdout",
     "output_type": "stream",
     "text": [
      "0 1 2 3 \n",
      "0 1 2 3 \n",
      "0 1 2 3 \n",
      "0 1 2 3 \n"
     ]
    }
   ],
   "source": [
    "#program to print 4x4 matrix numbers\n",
    "for i in range(4):\n",
    "    for j in range(4):\n",
    "        print(j,end=' ')\n",
    "    print()"
   ]
  },
  {
   "cell_type": "code",
   "execution_count": 16,
   "id": "ba02b86f",
   "metadata": {},
   "outputs": [
    {
     "name": "stdout",
     "output_type": "stream",
     "text": [
      "*  \n",
      "*  *  \n",
      "*  *  *  \n",
      "*  *  *  *  \n",
      "*  *  *  *  *  \n",
      "*  *  *  *  *  *  \n"
     ]
    }
   ],
   "source": [
    "#program to print triangle patterns\n",
    "for i in range(6):\n",
    "    for j in range(i+1):\n",
    "        print(\"* \",end=' ')\n",
    "    print()"
   ]
  },
  {
   "cell_type": "code",
   "execution_count": 17,
   "id": "e944921f",
   "metadata": {},
   "outputs": [
    {
     "name": "stdout",
     "output_type": "stream",
     "text": [
      "*  \n",
      "*  *  \n",
      "*  *  *  \n",
      "*  *  *  *  \n",
      "*  *  *  *  *  \n",
      "*  *  *  *  *  *  \n"
     ]
    }
   ],
   "source": [
    "#program to print triangle patterns\n",
    "for i in range(6):\n",
    "    for j in range(i+1):\n",
    "        print(\"* \",end=' ')\n",
    "    print()"
   ]
  },
  {
   "cell_type": "code",
   "execution_count": 22,
   "id": "a5c45fc1",
   "metadata": {},
   "outputs": [
    {
     "name": "stdout",
     "output_type": "stream",
     "text": [
      "i \n",
      "i i \n",
      "i i i \n",
      "i i i i \n",
      "i i i i i \n"
     ]
    }
   ],
   "source": [
    "#program to print triangle patterns\n",
    "for i in range(1,6):\n",
    "    for j in range(i):\n",
    "        print('i',end=' ')\n",
    "    print()"
   ]
  },
  {
   "cell_type": "code",
   "execution_count": 23,
   "id": "1305b896",
   "metadata": {},
   "outputs": [
    {
     "name": "stdout",
     "output_type": "stream",
     "text": [
      "1 \n",
      "2 2 \n",
      "3 3 3 \n",
      "4 4 4 4 \n",
      "5 5 5 5 5 \n"
     ]
    }
   ],
   "source": [
    "#program to print triangle patterns\n",
    "for i in range(1,6):\n",
    "    for j in range(i):\n",
    "        print(i,end=' ')\n",
    "    print()"
   ]
  },
  {
   "cell_type": "code",
   "execution_count": 32,
   "id": "c6cc02f2",
   "metadata": {},
   "outputs": [
    {
     "name": "stdout",
     "output_type": "stream",
     "text": [
      "A \n",
      "B B \n",
      "C C C \n",
      "D D D D \n",
      "E E E E E \n"
     ]
    }
   ],
   "source": [
    "#program to print triangle patterns\n",
    "for i in range(1,6):\n",
    "    for j in range(i):\n",
    "        print(chr(64+i),end=' ')\n",
    "    print()"
   ]
  },
  {
   "cell_type": "code",
   "execution_count": 29,
   "id": "9375ee5b",
   "metadata": {},
   "outputs": [
    {
     "name": "stdout",
     "output_type": "stream",
     "text": [
      "a \n",
      "b b \n",
      "c c c \n",
      "d d d d \n",
      "e e e e e \n"
     ]
    }
   ],
   "source": [
    "#program to print triangle patterns\n",
    "\n",
    "for i in range(1,6):\n",
    "    for j in range(i):\n",
    "        print(chr(96+i),end=' ')   \n",
    "    print()"
   ]
  },
  {
   "cell_type": "code",
   "execution_count": 31,
   "id": "b362eb06",
   "metadata": {},
   "outputs": [
    {
     "name": "stdout",
     "output_type": "stream",
     "text": [
      "A \n",
      "A B \n",
      "A B C \n",
      "A B C D \n",
      "A B C D E \n"
     ]
    }
   ],
   "source": [
    "#program to print triangle patterns\n",
    "\n",
    "for i in range(1,6):\n",
    "    for j in range(i):\n",
    "        print(chr(65+j),end=' ')\n",
    "    print()"
   ]
  },
  {
   "cell_type": "markdown",
   "id": "95054d68",
   "metadata": {},
   "source": [
    "# while loop"
   ]
  },
  {
   "cell_type": "code",
   "execution_count": 3,
   "id": "10469dc9",
   "metadata": {},
   "outputs": [
    {
     "name": "stdout",
     "output_type": "stream",
     "text": [
      "Hello Venky\n",
      "Hello Venky\n",
      "Hello Venky\n",
      "Hello Venky\n",
      "Hello Venky\n",
      "Hello Venky\n",
      "Hello Venky\n",
      "Hello Venky\n",
      "Hello Venky\n",
      "Hello Venky\n"
     ]
    }
   ],
   "source": [
    "#example program for while\n",
    "i=1\n",
    "while(i<=10):\n",
    "    print(\"Hello Venky\")\n",
    "    i=i+1"
   ]
  },
  {
   "cell_type": "code",
   "execution_count": 4,
   "id": "9482b6c5",
   "metadata": {},
   "outputs": [
    {
     "name": "stdout",
     "output_type": "stream",
     "text": [
      "1\n",
      "2\n",
      "3\n",
      "4\n",
      "5\n",
      "6\n",
      "7\n",
      "8\n",
      "9\n",
      "10\n"
     ]
    }
   ],
   "source": [
    "#program to print numbers from 1 to 10\n",
    "i=1\n",
    "while(i<=10):\n",
    "    print(i)\n",
    "    i=i+1"
   ]
  },
  {
   "cell_type": "code",
   "execution_count": 5,
   "id": "6949378f",
   "metadata": {},
   "outputs": [
    {
     "name": "stdout",
     "output_type": "stream",
     "text": [
      "10\n",
      "9\n",
      "8\n",
      "7\n",
      "6\n",
      "5\n",
      "4\n",
      "3\n",
      "2\n",
      "1\n"
     ]
    }
   ],
   "source": [
    "#program to print numbers from 10 to 1\n",
    "i=10\n",
    "while(i>=1):\n",
    "    print(i)\n",
    "    i=i-1"
   ]
  },
  {
   "cell_type": "code",
   "execution_count": 8,
   "id": "7327fcf7",
   "metadata": {},
   "outputs": [
    {
     "name": "stdout",
     "output_type": "stream",
     "text": [
      "2\n",
      "4\n",
      "6\n",
      "8\n",
      "10\n"
     ]
    }
   ],
   "source": [
    "#program to print even numbers betweem 1 to 10\n",
    "i=1\n",
    "while(i<=10):\n",
    "    if i%2==0:\n",
    "        print(i)\n",
    "    i=i+1"
   ]
  },
  {
   "cell_type": "code",
   "execution_count": 9,
   "id": "96de18f5",
   "metadata": {},
   "outputs": [
    {
     "name": "stdout",
     "output_type": "stream",
     "text": [
      "Number of even numbers are: 5\n"
     ]
    }
   ],
   "source": [
    "#program to print number of even numbers betweem 1 to 10\n",
    "i=1\n",
    "count=0\n",
    "while(i<=10):\n",
    "    if i%2==0:\n",
    "        count=count+1\n",
    "    i=i+1\n",
    "print(\"Number of even numbers are:\",count)"
   ]
  },
  {
   "cell_type": "code",
   "execution_count": 10,
   "id": "402aba84",
   "metadata": {},
   "outputs": [
    {
     "name": "stdout",
     "output_type": "stream",
     "text": [
      "Number of odd numbers are: 5\n"
     ]
    }
   ],
   "source": [
    "#program to print number of odd numbers betweem 1 to 10\n",
    "i=1\n",
    "count=0\n",
    "while(i<=10):\n",
    "    if i%2!=0:\n",
    "        count=count+1\n",
    "    i=i+1\n",
    "print(\"Number of odd numbers are:\",count)"
   ]
  },
  {
   "cell_type": "markdown",
   "id": "c217826d",
   "metadata": {},
   "source": [
    "# Nested While:"
   ]
  },
  {
   "cell_type": "code",
   "execution_count": 17,
   "id": "f4f2057d",
   "metadata": {},
   "outputs": [
    {
     "name": "stdout",
     "output_type": "stream",
     "text": [
      "* * * * \n",
      "* * * * \n",
      "* * * * \n",
      "* * * * \n"
     ]
    }
   ],
   "source": [
    "#program to understand nested while\n",
    "i=1\n",
    "while(i<=4):\n",
    "    j=1\n",
    "    while(j<=4):\n",
    "        print(\"* \",end='')\n",
    "        j=j+1\n",
    "    print()\n",
    "    i=i+1\n",
    "    "
   ]
  },
  {
   "cell_type": "code",
   "execution_count": 19,
   "id": "1070b1e5",
   "metadata": {},
   "outputs": [
    {
     "name": "stdout",
     "output_type": "stream",
     "text": [
      "1 1 1 1 \n",
      "2 2 2 2 \n",
      "3 3 3 3 \n",
      "4 4 4 4 \n"
     ]
    }
   ],
   "source": [
    "#program to understand nested while\n",
    "i=1\n",
    "while(i<=4):\n",
    "    j=1\n",
    "    while(j<=4):\n",
    "        print(i,end=' ')\n",
    "        j=j+1\n",
    "    print()\n",
    "    i=i+1\n",
    "    "
   ]
  },
  {
   "cell_type": "code",
   "execution_count": 20,
   "id": "05596e55",
   "metadata": {},
   "outputs": [
    {
     "name": "stdout",
     "output_type": "stream",
     "text": [
      "1 2 3 4 \n",
      "1 2 3 4 \n",
      "1 2 3 4 \n",
      "1 2 3 4 \n"
     ]
    }
   ],
   "source": [
    "#program to understand nested while\n",
    "i=1\n",
    "while(i<=4):\n",
    "    j=1\n",
    "    while(j<=4):\n",
    "        print(j,end=' ')\n",
    "        j=j+1\n",
    "    print()\n",
    "    i=i+1\n",
    "    "
   ]
  },
  {
   "cell_type": "code",
   "execution_count": 21,
   "id": "783fcaed",
   "metadata": {},
   "outputs": [
    {
     "name": "stdout",
     "output_type": "stream",
     "text": [
      "* \n",
      "* * \n",
      "* * * \n",
      "* * * * \n"
     ]
    }
   ],
   "source": [
    "#program to understand nested while\n",
    "i=1\n",
    "while(i<=4):\n",
    "    j=1\n",
    "    while(j<=i):\n",
    "        print(\"* \",end='')\n",
    "        j=j+1\n",
    "    print()\n",
    "    i=i+1\n",
    "    "
   ]
  },
  {
   "cell_type": "code",
   "execution_count": 22,
   "id": "200d2eda",
   "metadata": {},
   "outputs": [
    {
     "name": "stdout",
     "output_type": "stream",
     "text": [
      "1 \n",
      "2 2 \n",
      "3 3 3 \n",
      "4 4 4 4 \n"
     ]
    }
   ],
   "source": [
    "#program to understand nested while\n",
    "i=1\n",
    "while(i<=4):\n",
    "    j=1\n",
    "    while(j<=i):\n",
    "        print(i,end=' ')\n",
    "        j=j+1\n",
    "    print()\n",
    "    i=i+1\n",
    "    "
   ]
  },
  {
   "cell_type": "code",
   "execution_count": 23,
   "id": "426dd96e",
   "metadata": {},
   "outputs": [
    {
     "name": "stdout",
     "output_type": "stream",
     "text": [
      "1 \n",
      "1 2 \n",
      "1 2 3 \n",
      "1 2 3 4 \n"
     ]
    }
   ],
   "source": [
    "#program to understand nested while\n",
    "i=1\n",
    "while(i<=4):\n",
    "    j=1\n",
    "    while(j<=i):\n",
    "        print(j,end=' ')\n",
    "        j=j+1\n",
    "    print()\n",
    "    i=i+1\n",
    "    "
   ]
  },
  {
   "cell_type": "code",
   "execution_count": 24,
   "id": "b958363e",
   "metadata": {},
   "outputs": [
    {
     "name": "stdout",
     "output_type": "stream",
     "text": [
      "1 2 3 4 \n",
      "1 2 3 \n",
      "1 2 \n",
      "1 \n"
     ]
    }
   ],
   "source": [
    "#program to understand nested while\n",
    "i=4\n",
    "while(i>=1):\n",
    "    j=1\n",
    "    while(j<=i):\n",
    "        print(j,end=' ')\n",
    "        j=j+1\n",
    "    print()\n",
    "    i=i-1"
   ]
  },
  {
   "cell_type": "code",
   "execution_count": 25,
   "id": "5daa437d",
   "metadata": {},
   "outputs": [
    {
     "name": "stdout",
     "output_type": "stream",
     "text": [
      "1 \n",
      "2 3 \n",
      "4 5 6 \n",
      "7 8 9 10 \n"
     ]
    }
   ],
   "source": [
    "#program to understand nested while\n",
    "i=1\n",
    "k=1\n",
    "while(i<=4):\n",
    "    j=1\n",
    "    while(j<=i):\n",
    "        print(k,end=' ')\n",
    "        j=j+1\n",
    "        k=k+1\n",
    "    print()\n",
    "    i=i+1"
   ]
  },
  {
   "cell_type": "markdown",
   "id": "5b931484",
   "metadata": {},
   "source": [
    "# Loops with else:"
   ]
  },
  {
   "cell_type": "code",
   "execution_count": 29,
   "id": "144b73f5",
   "metadata": {},
   "outputs": [
    {
     "name": "stdout",
     "output_type": "stream",
     "text": [
      "0\n",
      "1\n",
      "2\n",
      "3\n",
      "4\n",
      "Reeached 5th level\n",
      "5\n",
      "6\n",
      "7\n",
      "8\n",
      "9\n",
      "Execution completed\n"
     ]
    }
   ],
   "source": [
    "#program to understand loops with else\n",
    "for i in range(10):\n",
    "    if i==5:\n",
    "        print(\"Reeached 5th level\")\n",
    "    print(i)\n",
    "else:\n",
    "    print(\"Execution completed\")"
   ]
  },
  {
   "cell_type": "code",
   "execution_count": 30,
   "id": "f869e939",
   "metadata": {},
   "outputs": [
    {
     "name": "stdout",
     "output_type": "stream",
     "text": [
      "0\n",
      "1\n",
      "2\n",
      "3\n",
      "4\n",
      "Reeached 5th level\n"
     ]
    }
   ],
   "source": [
    "#program to understand loops with else\n",
    "for i in range(10):\n",
    "    if i==5:\n",
    "        print(\"Reeached 5th level\")\n",
    "        break\n",
    "    print(i)\n",
    "else:\n",
    "    print(\"Execution completed\")"
   ]
  },
  {
   "cell_type": "code",
   "execution_count": 33,
   "id": "ebb6ad09",
   "metadata": {},
   "outputs": [
    {
     "name": "stdout",
     "output_type": "stream",
     "text": [
      "Execution completed 9\n"
     ]
    }
   ],
   "source": [
    "#program to understand loops with else\n",
    "for i in range(10):\n",
    "    pass\n",
    " \n",
    "else:\n",
    "    print(\"Execution completed\",i)"
   ]
  },
  {
   "cell_type": "code",
   "execution_count": null,
   "id": "d2550cf8",
   "metadata": {},
   "outputs": [],
   "source": []
  }
 ],
 "metadata": {
  "kernelspec": {
   "display_name": "Python 3",
   "language": "python",
   "name": "python3"
  },
  "language_info": {
   "codemirror_mode": {
    "name": "ipython",
    "version": 3
   },
   "file_extension": ".py",
   "mimetype": "text/x-python",
   "name": "python",
   "nbconvert_exporter": "python",
   "pygments_lexer": "ipython3",
   "version": "3.8.8"
  }
 },
 "nbformat": 4,
 "nbformat_minor": 5
}
